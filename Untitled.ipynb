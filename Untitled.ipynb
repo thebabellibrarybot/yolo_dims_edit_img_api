{
 "cells": [
  {
   "cell_type": "code",
   "execution_count": 1,
   "id": "91cfe452",
   "metadata": {},
   "outputs": [],
   "source": [
    "import boto3\n",
    "from PIL import Image, ImageDraw, ImageOps\n",
    "import numpy as np\n",
    "from IPython.display import display\n",
    "from io import BytesIO"
   ]
  },
  {
   "cell_type": "code",
   "execution_count": 5,
   "id": "9b2c082c",
   "metadata": {},
   "outputs": [],
   "source": [
    "s3_img_key = \"msm854_fol. 47(v,r) expell_fol1L.jpg\"\n",
    "s3_bucket = \"msm854\"\n",
    "dims = {2.0: [191, 150, 462, 484]}\n",
    "crop_to_dims = []\n",
    "for classes, dim in dims.items():\n",
    "    crop_to_dims.append(dim)\n",
    "out = {}\n"
   ]
  },
  {
   "cell_type": "code",
   "execution_count": 24,
   "id": "0901395f",
   "metadata": {
    "scrolled": true
   },
   "outputs": [
    {
     "name": "stdout",
     "output_type": "stream",
     "text": [
      "{'cropped_2.0_msm854_fol. 47(v,r) expell_fol1L.jpg': {'msm854': 'https://cropped_msm854.s3.amazonaws.com/cropped_2.0_msm854_fol. 47(v,r) expell_fol1L.jpg'}}\n"
     ]
    }
   ],
   "source": [
    "out = {}\n",
    "for dim in crop_to_dims:\n",
    "\n",
    "    # download image to bytes from s3\n",
    "    s3 = boto3.client('s3')\n",
    "    img_object = s3.get_object(Bucket=s3_bucket, Key=s3_img_key)\n",
    "    img_data = img_object['Body'].read()\n",
    "    img_pil = Image.open(BytesIO(img_data))\n",
    "    img_pil = img_pil.resize((640, 640))\n",
    "    \n",
    "    # crop image to dims but keep same size of original image with white background and cropped section in the same position on the page\n",
    "    img_crop = img_pil.crop((dim[0], dim[1], dim[2], dim[3]))\n",
    "    padded_image = ImageOps.expand(img_crop, border=10, fill=(255))\n",
    "    cl = str(dims.keys()).replace('dict_keys', '').replace('([', '').replace('])', '')\n",
    "    cropped_key = 'cropped_' + cl + '_' + s3_img_key\n",
    "    img_bytes = BytesIO()\n",
    "    padded_image.save(img_bytes, format='JPEG')\n",
    "    img_bytes.seek(0)\n",
    "    \n",
    "    s3.put_object(Bucket=s3_bucket, Key=cropped_key, Body=img_bytes)\n",
    "    out[cropped_key] = {s3_bucket: f'https://cropped_{s3_bucket}.s3.amazonaws.com/{cropped_key}'}\n",
    "return out    "
   ]
  },
  {
   "cell_type": "code",
   "execution_count": null,
   "id": "78feab23",
   "metadata": {},
   "outputs": [],
   "source": []
  },
  {
   "cell_type": "code",
   "execution_count": null,
   "id": "8127c4e7",
   "metadata": {},
   "outputs": [],
   "source": [
    "\n"
   ]
  },
  {
   "cell_type": "code",
   "execution_count": null,
   "id": "92be4a0b",
   "metadata": {},
   "outputs": [],
   "source": []
  },
  {
   "cell_type": "code",
   "execution_count": null,
   "id": "580fffc9",
   "metadata": {},
   "outputs": [],
   "source": []
  }
 ],
 "metadata": {
  "kernelspec": {
   "display_name": "Python 3 (ipykernel)",
   "language": "python",
   "name": "python3"
  },
  "language_info": {
   "codemirror_mode": {
    "name": "ipython",
    "version": 3
   },
   "file_extension": ".py",
   "mimetype": "text/x-python",
   "name": "python",
   "nbconvert_exporter": "python",
   "pygments_lexer": "ipython3",
   "version": "3.8.10"
  }
 },
 "nbformat": 4,
 "nbformat_minor": 5
}
